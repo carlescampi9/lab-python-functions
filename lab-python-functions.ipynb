{
 "cells": [
  {
   "cell_type": "markdown",
   "id": "25d7736c-ba17-4aff-b6bb-66eba20fbf4e",
   "metadata": {},
   "source": [
    "# Lab | Functions"
   ]
  },
  {
   "cell_type": "markdown",
   "id": "0c581062-8967-4d93-b06e-62833222f930",
   "metadata": {
    "tags": []
   },
   "source": [
    "## Exercise: Managing Customer Orders with Functions\n",
    "\n",
    "In the previous exercise, you improved the code for managing customer orders by using loops and flow control. Now, let's take it a step further and refactor the code by introducing functions.\n",
    "\n",
    "Follow the steps below to complete the exercise:\n",
    "\n",
    "1. Define a function named `initialize_inventory` that takes `products` as a parameter. Inside the function, implement the code for initializing the inventory dictionary using a loop and user input.\n",
    "\n",
    "2. Define a function named `get_customer_orders` that takes no parameters. Inside the function, implement the code for prompting the user to enter the product names using a loop. The function should return the `customer_orders` set.\n",
    "\n",
    "3. Define a function named `update_inventory` that takes `customer_orders` and `inventory` as parameters. Inside the function, implement the code for updating the inventory dictionary based on the customer orders.\n",
    "\n",
    "4. Define a function named `calculate_order_statistics` that takes `customer_orders` and `products` as parameters. Inside the function, implement the code for calculating the order statistics (total products ordered, and percentage of unique products ordered). The function should return these values.\n",
    "\n",
    "5. Define a function named `print_order_statistics` that takes `order_statistics` as a parameter. Inside the function, implement the code for printing the order statistics.\n",
    "\n",
    "6. Define a function named `print_updated_inventory` that takes `inventory` as a parameter. Inside the function, implement the code for printing the updated inventory.\n",
    "\n",
    "7. Call the functions in the appropriate sequence to execute the program and manage customer orders.\n",
    "\n",
    "Hints for functions:\n",
    "\n",
    "- Consider the input parameters required for each function and their return values.\n",
    "- Utilize function parameters and return values to transfer data between functions.\n",
    "- Test your functions individually to ensure they work correctly.\n",
    "\n",
    "\n"
   ]
  },
  {
   "cell_type": "code",
   "execution_count": 39,
   "id": "0c9cce6b-f103-45c5-9fb3-58b00fb02ade",
   "metadata": {},
   "outputs": [],
   "source": [
    "#1\n",
    "def initialize_inventory(products : list) -> dict:\n",
    "    inventory = {}\n",
    "    for element in products:\n",
    "        quantity = int(input(\"Enter the quantity for \" + element + \" :\"))\n",
    "        inventory[element] = quantity \n",
    "    return inventory"
   ]
  },
  {
   "cell_type": "code",
   "execution_count": 40,
   "id": "7efab188-0cf1-4ab7-b7ed-63c031329a03",
   "metadata": {},
   "outputs": [],
   "source": [
    "#2\n",
    "def get_customer_orders() -> set:\n",
    "    customer_orders = set()\n",
    "    state = True\n",
    "    while state == True:\n",
    "        product_name = input(\"Enter a product: \")\n",
    "        customer_orders.add(product_name)\n",
    "        question = input(\"Do you want to add another product (yes/no)?\")\n",
    "        while question != \"yes\" and question != \"no\":\n",
    "            question = input(\"Sorry I didn't understand it. Do you want to add another product (yes/no)?\")\n",
    "        if question == \"yes\":\n",
    "            state = True\n",
    "        elif question == \"no\":\n",
    "            state = False\n",
    "    return customer_orders"
   ]
  },
  {
   "cell_type": "code",
   "execution_count": 41,
   "id": "5227f434-8880-4c96-a564-5ad4d172d897",
   "metadata": {},
   "outputs": [],
   "source": [
    "#3\n",
    "def update_inventory(customer_orders : set, inventory : dict) -> dict:\n",
    "    for product in customer_orders:\n",
    "        inventory[product] -= 1\n",
    "    return inventory"
   ]
  },
  {
   "cell_type": "code",
   "execution_count": 46,
   "id": "6ea5328c-5d76-4eec-b921-cd8869ab9ee1",
   "metadata": {},
   "outputs": [],
   "source": [
    "#4\n",
    "def calculate_order_statistics(customer_orders : set, products : list) ->tuple:\n",
    "    total_products_ordered = len(customer_orders)\n",
    "    total_unique_products = len(products)\n",
    "    percentage = (total_products_ordered/total_unique_products)*100\n",
    "    order_statistics = (total_products_ordered, percentage)\n",
    "    return order_statistics"
   ]
  },
  {
   "cell_type": "code",
   "execution_count": 55,
   "id": "19b62d8e-d790-44bc-b89f-dd054e8ccc9c",
   "metadata": {},
   "outputs": [],
   "source": [
    "#5\n",
    "def print_order_statistics(order_statistics : tuple) -> str:\n",
    "    print(\"Order Statistics: \\nTotal Products Ordered: \" + str(order_statistics[0]) + \"\\nPercentage of Products Ordered (unique): \" + str(order_statistics[1]) + \"%\")"
   ]
  },
  {
   "cell_type": "code",
   "execution_count": 58,
   "id": "6bea4fe8-009c-4b7e-9ef0-5aad0a3a98e5",
   "metadata": {},
   "outputs": [],
   "source": [
    "#6\n",
    "def print_updated_inventory(inventory : dict) ->str:\n",
    "    print(f\"The updated inventory is the following {inventory}\")"
   ]
  },
  {
   "cell_type": "markdown",
   "id": "b277f19a-47f4-4e46-8fce-2a08f3aeb1a0",
   "metadata": {},
   "source": [
    "# #7 Example to check code (calling the functions)"
   ]
  },
  {
   "cell_type": "code",
   "execution_count": 42,
   "id": "7cfe0a64-7d25-4479-8657-02ecba5d42ba",
   "metadata": {},
   "outputs": [
    {
     "name": "stdin",
     "output_type": "stream",
     "text": [
      "Enter the quantity for t-shirt : 100\n",
      "Enter the quantity for mug : 100\n",
      "Enter the quantity for hat : 100\n",
      "Enter the quantity for book : 100\n",
      "Enter the quantity for keychain : 100\n"
     ]
    },
    {
     "data": {
      "text/plain": [
       "{'t-shirt': 100, 'mug': 100, 'hat': 100, 'book': 100, 'keychain': 100}"
      ]
     },
     "execution_count": 42,
     "metadata": {},
     "output_type": "execute_result"
    }
   ],
   "source": [
    "products = [\"t-shirt\",\"mug\",\"hat\",\"book\",\"keychain\"]\n",
    "initialize_inventory(products)"
   ]
  },
  {
   "cell_type": "code",
   "execution_count": 43,
   "id": "35967a6f-f5c2-4a81-b29b-f13b8355fd60",
   "metadata": {},
   "outputs": [
    {
     "name": "stdin",
     "output_type": "stream",
     "text": [
      "Enter a product:  mug\n",
      "Do you want to add another product (yes/no)? yes\n",
      "Enter a product:  book\n",
      "Do you want to add another product (yes/no)? no\n"
     ]
    },
    {
     "data": {
      "text/plain": [
       "{'book', 'mug'}"
      ]
     },
     "execution_count": 43,
     "metadata": {},
     "output_type": "execute_result"
    }
   ],
   "source": [
    "get_customer_orders()"
   ]
  },
  {
   "cell_type": "code",
   "execution_count": 44,
   "id": "a544d9c9-2f27-47ba-b624-152f2760565b",
   "metadata": {},
   "outputs": [
    {
     "data": {
      "text/plain": [
       "{'t-shirt': 100, 'mug': 99, 'hat': 100, 'book': 99, 'keychain': 100}"
      ]
     },
     "execution_count": 44,
     "metadata": {},
     "output_type": "execute_result"
    }
   ],
   "source": [
    "customer_orders = {'book', 'mug'}\n",
    "inventory = {'t-shirt': 100, 'mug': 100, 'hat': 100, 'book': 100, 'keychain': 100}\n",
    "update_inventory(customer_orders, inventory)"
   ]
  },
  {
   "cell_type": "code",
   "execution_count": 53,
   "id": "eb824d60-6cd1-4458-a9cc-dc2a7781c49b",
   "metadata": {},
   "outputs": [
    {
     "data": {
      "text/plain": [
       "(2, 40.0)"
      ]
     },
     "execution_count": 53,
     "metadata": {},
     "output_type": "execute_result"
    }
   ],
   "source": [
    "calculate_order_statistics(customer_orders,products)"
   ]
  },
  {
   "cell_type": "code",
   "execution_count": 56,
   "id": "7740a9b5-a64f-4b40-a161-ef247183b271",
   "metadata": {},
   "outputs": [
    {
     "name": "stdout",
     "output_type": "stream",
     "text": [
      "Order Statistics: \n",
      "Total Products Ordered: 2\n",
      "Percentage of Products Ordered (unique): 40.0%\n"
     ]
    }
   ],
   "source": [
    "order_statistics = (2, 40.0)\n",
    "print_order_statistics(order_statistics)"
   ]
  },
  {
   "cell_type": "code",
   "execution_count": 60,
   "id": "cffc584c-e136-46a2-bbf5-46fd41a57741",
   "metadata": {},
   "outputs": [
    {
     "name": "stdout",
     "output_type": "stream",
     "text": [
      "The updated inventory is the following {'t-shirt': 100, 'mug': 99, 'hat': 100, 'book': 99, 'keychain': 100}\n"
     ]
    }
   ],
   "source": [
    "print_updated_inventory(inventory)"
   ]
  }
 ],
 "metadata": {
  "kernelspec": {
   "display_name": "Python 3 (ipykernel)",
   "language": "python",
   "name": "python3"
  },
  "language_info": {
   "codemirror_mode": {
    "name": "ipython",
    "version": 3
   },
   "file_extension": ".py",
   "mimetype": "text/x-python",
   "name": "python",
   "nbconvert_exporter": "python",
   "pygments_lexer": "ipython3",
   "version": "3.9.18"
  }
 },
 "nbformat": 4,
 "nbformat_minor": 5
}
